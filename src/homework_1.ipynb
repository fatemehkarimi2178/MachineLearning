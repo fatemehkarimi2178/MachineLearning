{
 "cells": [
  {
   "cell_type": "markdown",
   "metadata": {},
   "source": [
    "# \n",
    "\n",
    "- **Answer Set** : NO. 01\n",
    "- **Full Name** : Fatemeh Karimi Barikarasfi\n",
    "- **Student Code** : 610301060\n",
    "\n"
   ]
  },
  {
   "cell_type": "code",
   "execution_count": null,
   "metadata": {},
   "outputs": [],
   "source": [
    "This homework contains 2 problems of Linear Regression."
   ]
  },
  {
   "cell_type": "markdown",
   "metadata": {},
   "source": [
    "## Importing Needed Libraries"
   ]
  },
  {
   "cell_type": "markdown",
   "metadata": {},
   "source": []
  },
  {
   "cell_type": "code",
   "execution_count": 1,
   "metadata": {},
   "outputs": [],
   "source": [
    "import numpy as np\n",
    "import pandas as pd\n",
    "import matplotlib.pyplot as plt\n",
    "from sklearn.preprocessing import PolynomialFeatures\n",
    "from sklearn.linear_model import LinearRegression\n",
    "import sklearn.metrics\n",
    "\n",
    "from sklearn.preprocessing import scale\n",
    "from sklearn import linear_model\n",
    "from sklearn.model_selection import cross_val_score\n",
    "from sklearn.model_selection import KFold"
   ]
  },
  {
   "cell_type": "markdown",
   "metadata": {},
   "source": [
    "## 1.\n",
    "\n",
    "### a.\n",
    "\n",
    "**Question**: Fit a fifth-degree polynomial regression to a dataset."
   ]
  },
  {
   "cell_type": "markdown",
   "metadata": {},
   "source": [
    "Load the dataset:"
   ]
  },
  {
   "cell_type": "code",
   "execution_count": 4,
   "metadata": {},
   "outputs": [
    {
     "data": {
      "text/html": [
       "<div>\n",
       "<style scoped>\n",
       "    .dataframe tbody tr th:only-of-type {\n",
       "        vertical-align: middle;\n",
       "    }\n",
       "\n",
       "    .dataframe tbody tr th {\n",
       "        vertical-align: top;\n",
       "    }\n",
       "\n",
       "    .dataframe thead th {\n",
       "        text-align: right;\n",
       "    }\n",
       "</style>\n",
       "<table border=\"1\" class=\"dataframe\">\n",
       "  <thead>\n",
       "    <tr style=\"text-align: right;\">\n",
       "      <th></th>\n",
       "      <th>x</th>\n",
       "      <th>target</th>\n",
       "    </tr>\n",
       "  </thead>\n",
       "  <tbody>\n",
       "    <tr>\n",
       "      <th>0</th>\n",
       "      <td>2.391265</td>\n",
       "      <td>0.692274</td>\n",
       "    </tr>\n",
       "    <tr>\n",
       "      <th>1</th>\n",
       "      <td>4.214828</td>\n",
       "      <td>4.078137</td>\n",
       "    </tr>\n",
       "    <tr>\n",
       "      <th>2</th>\n",
       "      <td>2.801953</td>\n",
       "      <td>2.614283</td>\n",
       "    </tr>\n",
       "    <tr>\n",
       "      <th>3</th>\n",
       "      <td>2.448590</td>\n",
       "      <td>1.465649</td>\n",
       "    </tr>\n",
       "    <tr>\n",
       "      <th>4</th>\n",
       "      <td>4.671812</td>\n",
       "      <td>-1.863850</td>\n",
       "    </tr>\n",
       "    <tr>\n",
       "      <th>...</th>\n",
       "      <td>...</td>\n",
       "      <td>...</td>\n",
       "    </tr>\n",
       "    <tr>\n",
       "      <th>195</th>\n",
       "      <td>5.254647</td>\n",
       "      <td>-0.334566</td>\n",
       "    </tr>\n",
       "    <tr>\n",
       "      <th>196</th>\n",
       "      <td>2.846755</td>\n",
       "      <td>3.444166</td>\n",
       "    </tr>\n",
       "    <tr>\n",
       "      <th>197</th>\n",
       "      <td>2.840102</td>\n",
       "      <td>-2.104304</td>\n",
       "    </tr>\n",
       "    <tr>\n",
       "      <th>198</th>\n",
       "      <td>1.618443</td>\n",
       "      <td>0.727167</td>\n",
       "    </tr>\n",
       "    <tr>\n",
       "      <th>199</th>\n",
       "      <td>0.155363</td>\n",
       "      <td>1.465762</td>\n",
       "    </tr>\n",
       "  </tbody>\n",
       "</table>\n",
       "<p>200 rows × 2 columns</p>\n",
       "</div>"
      ],
      "text/plain": [
       "            x    target\n",
       "0    2.391265  0.692274\n",
       "1    4.214828  4.078137\n",
       "2    2.801953  2.614283\n",
       "3    2.448590  1.465649\n",
       "4    4.671812 -1.863850\n",
       "..        ...       ...\n",
       "195  5.254647 -0.334566\n",
       "196  2.846755  3.444166\n",
       "197  2.840102 -2.104304\n",
       "198  1.618443  0.727167\n",
       "199  0.155363  1.465762\n",
       "\n",
       "[200 rows x 2 columns]"
      ]
     },
     "execution_count": 4,
     "metadata": {},
     "output_type": "execute_result"
    }
   ],
   "source": [
    "train_set1 = pd.read_csv('HW2_P1_train_set.csv')\n",
    "test_set1 = pd.read_csv('HW2_P1_test_set.csv')\n",
    "train_set1 = pd.read_csv('HW2_P1_train_set.csv')\n",
    "test_set1 = pd.read_csv('HW2_P1_test_set.csv')\n",
    "train_set1"
   ]
  },
  {
   "cell_type": "markdown",
   "metadata": {},
   "source": [
    "Generate a new feature matrix consisting of all polynomial combinations of the features with degree less than or equal to the 5:"
   ]
  },
  {
   "cell_type": "code",
   "execution_count": 6,
   "metadata": {},
   "outputs": [
    {
     "data": {
      "text/plain": [
       "array([[1.00000000e+00, 2.39126520e+00, 5.71814926e+00, 1.36736113e+01,\n",
       "        3.26972309e+01, 7.81877504e+01],\n",
       "       [1.00000000e+00, 4.21482800e+00, 1.77647751e+01, 7.48754714e+01,\n",
       "        3.15587233e+02, 1.33014591e+03],\n",
       "       [1.00000000e+00, 2.80195260e+00, 7.85093837e+00, 2.19979572e+01,\n",
       "        6.16372333e+01, 1.72704606e+02],\n",
       "       ...,\n",
       "       [1.00000000e+00, 2.84010200e+00, 8.06617937e+00, 2.29087722e+01,\n",
       "        6.50632496e+01, 1.84786265e+02],\n",
       "       [1.00000000e+00, 1.61844270e+00, 2.61935677e+00, 4.23927885e+00,\n",
       "        6.86102991e+00, 1.11041838e+01],\n",
       "       [1.00000000e+00, 1.55362700e-01, 2.41375686e-02, 3.75007782e-03,\n",
       "        5.82622216e-04, 9.05177605e-05]])"
      ]
     },
     "execution_count": 6,
     "metadata": {},
     "output_type": "execute_result"
    }
   ],
   "source": [
    "x_train1 = PolynomialFeatures(degree = 5)\n",
    "x_train1 = x_train1.fit_transform(np.array(train_set1.x).reshape(-1, 1))\n",
    "\n",
    "y_train1 = np.array(train_set1.target)\n",
    "\n",
    "x_test1 = PolynomialFeatures(degree = 5)\n",
    "x_test1 = x_test1.fit_transform(np.array(test_set1.x).reshape(-1, 1))\n",
    "\n",
    "y_test1 = np.array(test_set1.target)\n",
    "x_train1"
   ]
  },
  {
   "cell_type": "markdown",
   "metadata": {},
   "source": [
    "Fit linear model using LinearRegression to the feature matrix:"
   ]
  },
  {
   "cell_type": "code",
   "execution_count": 7,
   "metadata": {},
   "outputs": [
    {
     "data": {
      "text/plain": [
       "LinearRegression(copy_X=True, fit_intercept=True, n_jobs=None, normalize=False)"
      ]
     },
     "execution_count": 7,
     "metadata": {},
     "output_type": "execute_result"
    }
   ],
   "source": [
    "reg = LinearRegression()\n",
    "reg.fit(x_train1, y_train1)"
   ]
  },
  {
   "cell_type": "markdown",
   "metadata": {},
   "source": [
    "LinearRegression coefficients:"
   ]
  },
  {
   "cell_type": "code",
   "execution_count": 8,
   "metadata": {},
   "outputs": [
    {
     "data": {
      "text/plain": [
       "array([ 0.        ,  0.41741085,  1.17048501, -0.73986671,  0.13511055,\n",
       "       -0.00772431])"
      ]
     },
     "execution_count": 8,
     "metadata": {},
     "output_type": "execute_result"
    }
   ],
   "source": [
    "reg.coef_"
   ]
  },
  {
   "cell_type": "markdown",
   "metadata": {},
   "source": [
    "MSE of the on the test set:"
   ]
  },
  {
   "cell_type": "code",
   "execution_count": 10,
   "metadata": {},
   "outputs": [
    {
     "data": {
      "text/plain": [
       "0.09615550335250969"
      ]
     },
     "execution_count": 10,
     "metadata": {},
     "output_type": "execute_result"
    }
   ],
   "source": [
    "yhat = reg.predict(x_test1)\n",
    "mse_test = sklearn.metrics.mean_squared_error(y_test1, yhat)\n",
    "mse_test"
   ]
  },
  {
   "cell_type": "markdown",
   "metadata": {},
   "source": [
    "MSE of the on the train set:"
   ]
  },
  {
   "cell_type": "code",
   "execution_count": 11,
   "metadata": {},
   "outputs": [
    {
     "data": {
      "text/plain": [
       "3.089566381827957"
      ]
     },
     "execution_count": 11,
     "metadata": {},
     "output_type": "execute_result"
    }
   ],
   "source": [
    "mse_train = sklearn.metrics.mean_squared_error(y_train1, reg.predict(x_train1))\n",
    "mse_train"
   ]
  },
  {
   "cell_type": "markdown",
   "metadata": {},
   "source": [
    "Plot the real and predicted values of train and test data:"
   ]
  },
  {
   "cell_type": "code",
   "execution_count": 12,
   "metadata": {},
   "outputs": [
    {
     "data": {
      "image/png": "[encoded data removed]",
      "text/plain": [
       "<Figure size 1100x500 with 2 Axes>"
      ]
     },
     "metadata": {
      "needs_background": "light"
     },
     "output_type": "display_data"
    }
   ],
   "source": [
    "plt.figure(figsize = (11, 5), dpi = 100)\n",
    "plt.subplot(1, 2, 1)\n",
    "plt.scatter(train_set1.x, y_train1, label = 'True')\n",
    "plt.scatter(train_set1.x, reg.predict(x_train1), label = 'Predicted')\n",
    "plt.legend()\n",
    "plt.grid()\n",
    "plt.title('Train Data')\n",
    "\n",
    "plt.subplot(1, 2, 2)\n",
    "plt.scatter(test_set1.x, y_test1, label = 'True')\n",
    "plt.scatter(test_set1.x, yhat, label = 'Predicted')\n",
    "plt.legend()\n",
    "plt.grid()\n",
    "plt.title('Test Data')\n",
    "plt.show()"
   ]
  },
  {
   "cell_type": "markdown",
   "metadata": {},
   "source": [
    "### b.\n",
    "**Question:** Uning N = 10, 25, 50, 100, 200 samples of train set for training the previous model.\n",
    "\n",
    "#### N = 10"
   ]
  },
  {
   "cell_type": "code",
   "execution_count": 13,
   "metadata": {},
   "outputs": [
    {
     "data": {
      "text/plain": [
       "LinearRegression(copy_X=True, fit_intercept=True, n_jobs=None, normalize=False)"
      ]
     },
     "execution_count": 13,
     "metadata": {},
     "output_type": "execute_result"
    }
   ],
   "source": [
    "# N = 10\n",
    "reg_10 = LinearRegression()\n",
    "reg_10.fit(x_train1[0: 10], y_train1[0: 10])"
   ]
  },
  {
   "cell_type": "code",
   "execution_count": 14,
   "metadata": {},
   "outputs": [
    {
     "name": "stdout",
     "output_type": "stream",
     "text": [
      "Coeffitient for N = 10 is : [   0.         -421.97368821  239.9281351   -65.3104994     8.54769456\n",
      "   -0.43283447]\n"
     ]
    }
   ],
   "source": [
    "print('Coeffitient for N = 10 is :', reg_10.coef_)"
   ]
  },
  {
   "cell_type": "code",
   "execution_count": 16,
   "metadata": {},
   "outputs": [
    {
     "name": "stdout",
     "output_type": "stream",
     "text": [
      "MSE error for N = 10 in test set is : 3421.4524455827823\n"
     ]
    }
   ],
   "source": [
    "yhat_10 = reg_10.predict(x_test1)\n",
    "mse_test_10 = sklearn.metrics.mean_squared_error(y_test1, yhat_10)\n",
    "print('MSE error for N = 10 in test set is :', mse_test_10)"
   ]
  },
  {
   "cell_type": "code",
   "execution_count": 17,
   "metadata": {},
   "outputs": [
    {
     "name": "stdout",
     "output_type": "stream",
     "text": [
      "MSE error for N = 10 in train set is : 1.7582889199969873\n"
     ]
    }
   ],
   "source": [
    "mse_train_10 = sklearn.metrics.mean_squared_error(y_train1[0: 10], reg_10.predict(x_train1[0: 10]))\n",
    "print('MSE error for N = 10 in train set is :', mse_train_10)"
   ]
  },
  {
   "cell_type": "markdown",
   "metadata": {},
   "source": [
    "Plot the True and Predicted values for the model which trained with 10 samples of train set:"
   ]
  },
  {
   "cell_type": "code",
   "execution_count": 18,
   "metadata": {},
   "outputs": [
    {
     "data": {
      "image/png": "[encoded data removed]",
      "text/plain": [
       "<Figure size 432x288 with 1 Axes>"
      ]
     },
     "metadata": {
      "needs_background": "light"
     },
     "output_type": "display_data"
    }
   ],
   "source": [
    "plt.scatter(test_set1.x, y_test1, label = 'True')\n",
    "plt.scatter(test_set1.x, yhat_10, label = 'Predicted')\n",
    "plt.legend()\n",
    "plt.grid()\n",
    "plt.show()"
   ]
  },
  {
   "cell_type": "markdown",
   "metadata": {},
   "source": [
    "#### N = 25"
   ]
  },
  {
   "cell_type": "code",
   "execution_count": 19,
   "metadata": {},
   "outputs": [
    {
     "data": {
      "text/plain": [
       "LinearRegression(copy_X=True, fit_intercept=True, n_jobs=None, normalize=False)"
      ]
     },
     "execution_count": 19,
     "metadata": {},
     "output_type": "execute_result"
    }
   ],
   "source": [
    "# N = 25\n",
    "reg_25 = LinearRegression()\n",
    "reg_25.fit(x_train1[0: 25], y_train1[0: 25])"
   ]
  },
  {
   "cell_type": "code",
   "execution_count": 20,
   "metadata": {},
   "outputs": [
    {
     "name": "stdout",
     "output_type": "stream",
     "text": [
      "Coeffitient for N = 25 is : [ 0.          5.76250132 -4.57263022  1.67176263 -0.28769114  0.01808571]\n"
     ]
    }
   ],
   "source": [
    "print('Coeffitient for N = 25 is :', reg_25.coef_)"
   ]
  },
  {
   "cell_type": "code",
   "execution_count": 22,
   "metadata": {},
   "outputs": [
    {
     "name": "stdout",
     "output_type": "stream",
     "text": [
      "MSE error for N = 10 in test set is : 1.0655501749139116\n"
     ]
    }
   ],
   "source": [
    "yhat_25 = reg_25.predict(x_test1)\n",
    "mse_test_25 = sklearn.metrics.mean_squared_error(y_test1, yhat_25)\n",
    "print('MSE error for N = 10 in test set is :', mse_test_25)"
   ]
  },
  {
   "cell_type": "code",
   "execution_count": 23,
   "metadata": {},
   "outputs": [
    {
     "name": "stdout",
     "output_type": "stream",
     "text": [
      "MSE error for N = 10 in train set is : 3.581753357884903\n"
     ]
    }
   ],
   "source": [
    "mse_train_25 = sklearn.metrics.mean_squared_error(y_train1[0: 25], reg_25.predict(x_train1[0: 25]))\n",
    "print('MSE error for N = 10 in train set is :', mse_train_25)"
   ]
  },
  {
   "cell_type": "markdown",
   "metadata": {},
   "source": [
    "Plot the True and Predicted values for the model which trained with 25 samples of train set:"
   ]
  },
  {
   "cell_type": "code",
   "execution_count": 24,
   "metadata": {},
   "outputs": [
    {
     "data": {
      "image/png": "[encoded data removed]",
      "text/plain": [
       "<Figure size 432x288 with 1 Axes>"
      ]
     },
     "metadata": {
      "needs_background": "light"
     },
     "output_type": "display_data"
    }
   ],
   "source": [
    "plt.scatter(test_set1.x, y_test1, label = 'True')\n",
    "plt.scatter(test_set1.x, yhat_25, label = 'Predicted')\n",
    "plt.legend()\n",
    "plt.grid()\n",
    "plt.show()"
   ]
  },
  {
   "cell_type": "markdown",
   "metadata": {},
   "source": [
    "#### N = 50"
   ]
  },
  {
   "cell_type": "code",
   "execution_count": 25,
   "metadata": {},
   "outputs": [
    {
     "data": {
      "text/plain": [
       "LinearRegression(copy_X=True, fit_intercept=True, n_jobs=None, normalize=False)"
      ]
     },
     "execution_count": 25,
     "metadata": {},
     "output_type": "execute_result"
    }
   ],
   "source": [
    "# N = 50\n",
    "reg_50 = LinearRegression()\n",
    "reg_50.fit(x_train1[0: 50], y_train1[0: 50])"
   ]
  },
  {
   "cell_type": "code",
   "execution_count": 27,
   "metadata": {},
   "outputs": [],
   "source": [
    "yhat_50 = reg_50.predict(x_test1)"
   ]
  },
  {
   "cell_type": "code",
   "execution_count": 28,
   "metadata": {},
   "outputs": [
    {
     "name": "stdout",
     "output_type": "stream",
     "text": [
      "MSE error for N = 50 in test set is : 0.3527823698468558\n"
     ]
    }
   ],
   "source": [
    "yhat_50 = reg_50.predict(x_test1)\n",
    "mse_test_50 = sklearn.metrics.mean_squared_error(y_test1, yhat_50)\n",
    "print('MSE error for N = 50 in test set is :', mse_test_50)"
   ]
  },
  {
   "cell_type": "code",
   "execution_count": 29,
   "metadata": {},
   "outputs": [
    {
     "name": "stdout",
     "output_type": "stream",
     "text": [
      "MSE error for N = 50 in train set is : 3.267410903681594\n"
     ]
    }
   ],
   "source": [
    "mse_train_50 = sklearn.metrics.mean_squared_error(y_train1[0: 50], reg_50.predict(x_train1[0: 50]))\n",
    "print('MSE error for N = 50 in train set is :', mse_train_50)"
   ]
  },
  {
   "cell_type": "markdown",
   "metadata": {},
   "source": [
    "Plot the True and Predicted values for the model which trained with 50 samples of train set:"
   ]
  },
  {
   "cell_type": "code",
   "execution_count": 30,
   "metadata": {},
   "outputs": [
    {
     "data": {
      "image/png": "[encoded data removed]",
      "text/plain": [
       "<Figure size 432x288 with 1 Axes>"
      ]
     },
     "metadata": {
      "needs_background": "light"
     },
     "output_type": "display_data"
    }
   ],
   "source": [
    "plt.scatter(test_set1.x, y_test1, label = 'True')\n",
    "plt.scatter(test_set1.x, yhat_50, label = 'Predicted')\n",
    "plt.legend()\n",
    "plt.grid()\n",
    "plt.show()"
   ]
  },
  {
   "cell_type": "markdown",
   "metadata": {},
   "source": [
    "#### N = 100"
   ]
  },
  {
   "cell_type": "code",
   "execution_count": 31,
   "metadata": {},
   "outputs": [
    {
     "data": {
      "text/plain": [
       "LinearRegression(copy_X=True, fit_intercept=True, n_jobs=None, normalize=False)"
      ]
     },
     "execution_count": 31,
     "metadata": {},
     "output_type": "execute_result"
    }
   ],
   "source": [
    "# N = 100\n",
    "reg_100 = LinearRegression()\n",
    "reg_100.fit(x_train1[0: 100], y_train1[0: 100])"
   ]
  },
  {
   "cell_type": "code",
   "execution_count": 32,
   "metadata": {},
   "outputs": [
    {
     "name": "stdout",
     "output_type": "stream",
     "text": [
      "Coeffitient for N = 50 is : [ 0.          0.58160111  0.97851162 -0.62673533  0.10661027 -0.00536244]\n"
     ]
    }
   ],
   "source": [
    "print('Coeffitient for N = 50 is :', reg_100.coef_)"
   ]
  },
  {
   "cell_type": "code",
   "execution_count": 34,
   "metadata": {},
   "outputs": [
    {
     "name": "stdout",
     "output_type": "stream",
     "text": [
      "MSE error for N = 100 in test set is : 0.15236172527100206\n"
     ]
    }
   ],
   "source": [
    "yhat_100 = reg_100.predict(x_test1)\n",
    "mse_test_100 = sklearn.metrics.mean_squared_error(y_test1, yhat_100)\n",
    "print('MSE error for N = 100 in test set is :', mse_test_100)"
   ]
  },
  {
   "cell_type": "code",
   "execution_count": 35,
   "metadata": {},
   "outputs": [
    {
     "name": "stdout",
     "output_type": "stream",
     "text": [
      "MSE error for N = 100 in train set is : 3.147306732263559\n"
     ]
    }
   ],
   "source": [
    "mse_train_100 = sklearn.metrics.mean_squared_error(y_train1[0: 100], reg_100.predict(x_train1[0: 100]))\n",
    "print('MSE error for N = 100 in train set is :', mse_train_100)"
   ]
  },
  {
   "cell_type": "markdown",
   "metadata": {},
   "source": [
    "Plot the True and Predicted values for the model which trained with 100 samples of train set:"
   ]
  },
  {
   "cell_type": "code",
   "execution_count": 36,
   "metadata": {},
   "outputs": [
    {
     "data": {
      "image/png": "[encoded data removed]",
      "text/plain": [
       "<Figure size 432x288 with 1 Axes>"
      ]
     },
     "metadata": {
      "needs_background": "light"
     },
     "output_type": "display_data"
    }
   ],
   "source": [
    "plt.scatter(test_set1.x, y_test1, label = 'True')\n",
    "plt.scatter(test_set1.x, yhat_100, label = 'Predicted')\n",
    "plt.legend()\n",
    "plt.grid()\n",
    "plt.show()"
   ]
  },
  {
   "cell_type": "markdown",
   "metadata": {},
   "source": [
    "Plot the MSE error of train and set set for each model:"
   ]
  },
  {
   "cell_type": "code",
   "execution_count": 38,
   "metadata": {},
   "outputs": [
    {
     "data": {
      "image/png": "[encoded data removed]",
      "text/plain": [
       "<Figure size 432x288 with 1 Axes>"
      ]
     },
     "metadata": {
      "needs_background": "light"
     },
     "output_type": "display_data"
    }
   ],
   "source": [
    "d = [25, 50, 100, 200]\n",
    "mseTest = [mse_test_25, mse_test_50, mse_test_100, mse_test]\n",
    "mseTrain = [mse_train_25, mse_train_50, mse_train_100, mse_train]\n",
    "\n",
    "plt.plot(d, mseTest, label = 'Test')\n",
    "plt.plot(d, mseTrain, label = 'Train')\n",
    "plt.legend()\n",
    "plt.show()"
   ]
  },
  {
   "cell_type": "markdown",
   "metadata": {},
   "source": [
    "Plot all the True and Predicred values for each models that trained with different value of N samples:"
   ]
  },
  {
   "cell_type": "code",
   "execution_count": 39,
   "metadata": {},
   "outputs": [
    {
     "data": {
      "image/png": "[encoded data removed]",
      "text/plain": [
       "<Figure size 1100x800 with 5 Axes>"
      ]
     },
     "metadata": {
      "needs_background": "light"
     },
     "output_type": "display_data"
    }
   ],
   "source": [
    "plt.figure(figsize = (11, 8), dpi = 100)\n",
    "plt.subplot(3, 2, 1)\n",
    "plt.scatter(test_set1.x, y_test1, label = 'True')\n",
    "plt.scatter(test_set1.x, yhat, label = 'Predicted')\n",
    "plt.legend()\n",
    "plt.grid()\n",
    "plt.title('Number of Data = 200')\n",
    "\n",
    "plt.subplot(3, 2, 2)\n",
    "plt.scatter(test_set1.x, y_test1, label = 'True')\n",
    "plt.scatter(test_set1.x, yhat_10, label = 'Predicted')\n",
    "plt.legend()\n",
    "plt.grid()\n",
    "plt.title('Number of Data = 10')\n",
    "\n",
    "plt.subplot(3, 2, 3)\n",
    "plt.scatter(test_set1.x, y_test1, label = 'True')\n",
    "plt.scatter(test_set1.x, yhat_25, label = 'Predicted')\n",
    "plt.legend()\n",
    "plt.grid()\n",
    "plt.title('Number of Data = 25')\n",
    "\n",
    "plt.subplot(3, 2, 4)\n",
    "plt.scatter(test_set1.x, y_test1, label = 'True')\n",
    "plt.scatter(test_set1.x, yhat_50, label = 'Predicted')\n",
    "plt.legend()\n",
    "plt.grid()\n",
    "plt.title('Number of Data = 50')\n",
    "\n",
    "plt.subplot(3, 2, 5)\n",
    "plt.scatter(test_set1.x, y_test1, label = 'True')\n",
    "plt.scatter(test_set1.x, yhat_100, label = 'Predicted')\n",
    "plt.legend()\n",
    "plt.grid()\n",
    "plt.title('Number of Data = 100')\n",
    "\n",
    "plt.show()"
   ]
  },
  {
   "cell_type": "markdown",
   "metadata": {},
   "source": [
    "## 2.\n",
    "\n",
    "### a.\n",
    "**Question:** Normalize the dataset."
   ]
  },
  {
   "cell_type": "markdown",
   "metadata": {},
   "source": [
    "Load the dataset:"
   ]
  },
  {
   "cell_type": "code",
   "execution_count": 42,
   "metadata": {},
   "outputs": [
    {
     "data": {
      "text/html": [
       "<div>\n",
       "<style scoped>\n",
       "    .dataframe tbody tr th:only-of-type {\n",
       "        vertical-align: middle;\n",
       "    }\n",
       "\n",
       "    .dataframe tbody tr th {\n",
       "        vertical-align: top;\n",
       "    }\n",
       "\n",
       "    .dataframe thead th {\n",
       "        text-align: right;\n",
       "    }\n",
       "</style>\n",
       "<table border=\"1\" class=\"dataframe\">\n",
       "  <thead>\n",
       "    <tr style=\"text-align: right;\">\n",
       "      <th></th>\n",
       "      <th>f1</th>\n",
       "      <th>f2</th>\n",
       "      <th>f3</th>\n",
       "      <th>f4</th>\n",
       "      <th>f5</th>\n",
       "      <th>f6</th>\n",
       "      <th>f7</th>\n",
       "      <th>f8</th>\n",
       "      <th>f9</th>\n",
       "      <th>f10</th>\n",
       "      <th>f11</th>\n",
       "      <th>f12</th>\n",
       "      <th>f13</th>\n",
       "      <th>target</th>\n",
       "    </tr>\n",
       "  </thead>\n",
       "  <tbody>\n",
       "    <tr>\n",
       "      <th>0</th>\n",
       "      <td>0.11460</td>\n",
       "      <td>20.0</td>\n",
       "      <td>6.96</td>\n",
       "      <td>0.0</td>\n",
       "      <td>0.464</td>\n",
       "      <td>6.538</td>\n",
       "      <td>58.7</td>\n",
       "      <td>3.9175</td>\n",
       "      <td>3.0</td>\n",
       "      <td>223.0</td>\n",
       "      <td>18.6</td>\n",
       "      <td>394.96</td>\n",
       "      <td>7.73</td>\n",
       "      <td>24.4</td>\n",
       "    </tr>\n",
       "    <tr>\n",
       "      <th>1</th>\n",
       "      <td>9.39063</td>\n",
       "      <td>0.0</td>\n",
       "      <td>18.10</td>\n",
       "      <td>0.0</td>\n",
       "      <td>0.740</td>\n",
       "      <td>5.627</td>\n",
       "      <td>93.9</td>\n",
       "      <td>1.8172</td>\n",
       "      <td>24.0</td>\n",
       "      <td>666.0</td>\n",
       "      <td>20.2</td>\n",
       "      <td>396.90</td>\n",
       "      <td>22.88</td>\n",
       "      <td>12.8</td>\n",
       "    </tr>\n",
       "    <tr>\n",
       "      <th>2</th>\n",
       "      <td>2.37857</td>\n",
       "      <td>0.0</td>\n",
       "      <td>18.10</td>\n",
       "      <td>0.0</td>\n",
       "      <td>0.583</td>\n",
       "      <td>5.871</td>\n",
       "      <td>41.9</td>\n",
       "      <td>3.7240</td>\n",
       "      <td>24.0</td>\n",
       "      <td>666.0</td>\n",
       "      <td>20.2</td>\n",
       "      <td>370.73</td>\n",
       "      <td>13.34</td>\n",
       "      <td>20.6</td>\n",
       "    </tr>\n",
       "    <tr>\n",
       "      <th>3</th>\n",
       "      <td>0.05302</td>\n",
       "      <td>0.0</td>\n",
       "      <td>3.41</td>\n",
       "      <td>0.0</td>\n",
       "      <td>0.489</td>\n",
       "      <td>7.079</td>\n",
       "      <td>63.1</td>\n",
       "      <td>3.4145</td>\n",
       "      <td>2.0</td>\n",
       "      <td>270.0</td>\n",
       "      <td>17.8</td>\n",
       "      <td>396.06</td>\n",
       "      <td>5.70</td>\n",
       "      <td>28.7</td>\n",
       "    </tr>\n",
       "    <tr>\n",
       "      <th>4</th>\n",
       "      <td>0.14150</td>\n",
       "      <td>0.0</td>\n",
       "      <td>6.91</td>\n",
       "      <td>0.0</td>\n",
       "      <td>0.448</td>\n",
       "      <td>6.169</td>\n",
       "      <td>6.6</td>\n",
       "      <td>5.7209</td>\n",
       "      <td>3.0</td>\n",
       "      <td>233.0</td>\n",
       "      <td>17.9</td>\n",
       "      <td>383.37</td>\n",
       "      <td>5.81</td>\n",
       "      <td>25.3</td>\n",
       "    </tr>\n",
       "    <tr>\n",
       "      <th>...</th>\n",
       "      <td>...</td>\n",
       "      <td>...</td>\n",
       "      <td>...</td>\n",
       "      <td>...</td>\n",
       "      <td>...</td>\n",
       "      <td>...</td>\n",
       "      <td>...</td>\n",
       "      <td>...</td>\n",
       "      <td>...</td>\n",
       "      <td>...</td>\n",
       "      <td>...</td>\n",
       "      <td>...</td>\n",
       "      <td>...</td>\n",
       "      <td>...</td>\n",
       "    </tr>\n",
       "    <tr>\n",
       "      <th>401</th>\n",
       "      <td>0.06047</td>\n",
       "      <td>0.0</td>\n",
       "      <td>2.46</td>\n",
       "      <td>0.0</td>\n",
       "      <td>0.488</td>\n",
       "      <td>6.153</td>\n",
       "      <td>68.8</td>\n",
       "      <td>3.2797</td>\n",
       "      <td>3.0</td>\n",
       "      <td>193.0</td>\n",
       "      <td>17.8</td>\n",
       "      <td>387.11</td>\n",
       "      <td>13.15</td>\n",
       "      <td>29.6</td>\n",
       "    </tr>\n",
       "    <tr>\n",
       "      <th>402</th>\n",
       "      <td>1.27346</td>\n",
       "      <td>0.0</td>\n",
       "      <td>19.58</td>\n",
       "      <td>1.0</td>\n",
       "      <td>0.605</td>\n",
       "      <td>6.250</td>\n",
       "      <td>92.6</td>\n",
       "      <td>1.7984</td>\n",
       "      <td>5.0</td>\n",
       "      <td>403.0</td>\n",
       "      <td>14.7</td>\n",
       "      <td>338.92</td>\n",
       "      <td>5.50</td>\n",
       "      <td>27.0</td>\n",
       "    </tr>\n",
       "    <tr>\n",
       "      <th>403</th>\n",
       "      <td>16.81180</td>\n",
       "      <td>0.0</td>\n",
       "      <td>18.10</td>\n",
       "      <td>0.0</td>\n",
       "      <td>0.700</td>\n",
       "      <td>5.277</td>\n",
       "      <td>98.1</td>\n",
       "      <td>1.4261</td>\n",
       "      <td>24.0</td>\n",
       "      <td>666.0</td>\n",
       "      <td>20.2</td>\n",
       "      <td>396.90</td>\n",
       "      <td>30.81</td>\n",
       "      <td>7.2</td>\n",
       "    </tr>\n",
       "    <tr>\n",
       "      <th>404</th>\n",
       "      <td>1.46336</td>\n",
       "      <td>0.0</td>\n",
       "      <td>19.58</td>\n",
       "      <td>0.0</td>\n",
       "      <td>0.605</td>\n",
       "      <td>7.489</td>\n",
       "      <td>90.8</td>\n",
       "      <td>1.9709</td>\n",
       "      <td>5.0</td>\n",
       "      <td>403.0</td>\n",
       "      <td>14.7</td>\n",
       "      <td>374.43</td>\n",
       "      <td>1.73</td>\n",
       "      <td>50.0</td>\n",
       "    </tr>\n",
       "    <tr>\n",
       "      <th>405</th>\n",
       "      <td>0.06617</td>\n",
       "      <td>0.0</td>\n",
       "      <td>3.24</td>\n",
       "      <td>0.0</td>\n",
       "      <td>0.460</td>\n",
       "      <td>5.868</td>\n",
       "      <td>25.8</td>\n",
       "      <td>5.2146</td>\n",
       "      <td>4.0</td>\n",
       "      <td>430.0</td>\n",
       "      <td>16.9</td>\n",
       "      <td>382.44</td>\n",
       "      <td>9.97</td>\n",
       "      <td>19.3</td>\n",
       "    </tr>\n",
       "  </tbody>\n",
       "</table>\n",
       "<p>406 rows × 14 columns</p>\n",
       "</div>"
      ],
      "text/plain": [
       "           f1    f2     f3   f4     f5     f6    f7      f8    f9    f10  \\\n",
       "0     0.11460  20.0   6.96  0.0  0.464  6.538  58.7  3.9175   3.0  223.0   \n",
       "1     9.39063   0.0  18.10  0.0  0.740  5.627  93.9  1.8172  24.0  666.0   \n",
       "2     2.37857   0.0  18.10  0.0  0.583  5.871  41.9  3.7240  24.0  666.0   \n",
       "3     0.05302   0.0   3.41  0.0  0.489  7.079  63.1  3.4145   2.0  270.0   \n",
       "4     0.14150   0.0   6.91  0.0  0.448  6.169   6.6  5.7209   3.0  233.0   \n",
       "..        ...   ...    ...  ...    ...    ...   ...     ...   ...    ...   \n",
       "401   0.06047   0.0   2.46  0.0  0.488  6.153  68.8  3.2797   3.0  193.0   \n",
       "402   1.27346   0.0  19.58  1.0  0.605  6.250  92.6  1.7984   5.0  403.0   \n",
       "403  16.81180   0.0  18.10  0.0  0.700  5.277  98.1  1.4261  24.0  666.0   \n",
       "404   1.46336   0.0  19.58  0.0  0.605  7.489  90.8  1.9709   5.0  403.0   \n",
       "405   0.06617   0.0   3.24  0.0  0.460  5.868  25.8  5.2146   4.0  430.0   \n",
       "\n",
       "      f11     f12    f13  target  \n",
       "0    18.6  394.96   7.73    24.4  \n",
       "1    20.2  396.90  22.88    12.8  \n",
       "2    20.2  370.73  13.34    20.6  \n",
       "3    17.8  396.06   5.70    28.7  \n",
       "4    17.9  383.37   5.81    25.3  \n",
       "..    ...     ...    ...     ...  \n",
       "401  17.8  387.11  13.15    29.6  \n",
       "402  14.7  338.92   5.50    27.0  \n",
       "403  20.2  396.90  30.81     7.2  \n",
       "404  14.7  374.43   1.73    50.0  \n",
       "405  16.9  382.44   9.97    19.3  \n",
       "\n",
       "[406 rows x 14 columns]"
      ]
     },
     "execution_count": 42,
     "metadata": {},
     "output_type": "execute_result"
    }
   ],
   "source": [
    "train_set2 = pd.read_csv('HW2_P2train_set.csv')\n",
    "test_set2 = pd.read_csv('HW2_P2test_set.csv')\n",
    "train_set2"
   ]
  },
  {
   "cell_type": "markdown",
   "metadata": {},
   "source": [
    "Data Normaalization:"
   ]
  },
  {
   "cell_type": "code",
   "execution_count": 44,
   "metadata": {},
   "outputs": [
    {
     "data": {
      "text/plain": [
       "array([[-0.39955043,  0.39515436, -0.61781773, ...,  0.0293766 ,\n",
       "         0.40732006, -0.70593944],\n",
       "       [ 0.61473147, -0.47345782,  1.01419938, ...,  0.78965714,\n",
       "         0.42928835,  1.42795883],\n",
       "       [-0.151998  , -0.47345782,  1.01419938, ...,  0.78965714,\n",
       "         0.13294295,  0.08423675],\n",
       "       ...,\n",
       "       [ 1.42619482, -0.47345782,  1.01419938, ...,  0.78965714,\n",
       "         0.42928835,  2.5449102 ],\n",
       "       [-0.25207108, -0.47345782,  1.23102032, ..., -1.82380721,\n",
       "         0.17484123, -1.55104766],\n",
       "       [-0.40484598, -0.47345782, -1.1628001 , ..., -0.77842147,\n",
       "         0.26554534, -0.39043237]])"
      ]
     },
     "execution_count": 44,
     "metadata": {},
     "output_type": "execute_result"
    }
   ],
   "source": [
    "x = scale(train_set2[['f1', 'f2', 'f3', 'f4', 'f5', 'f6', 'f7', 'f8', 'f9', 'f10', 'f11', 'f12', 'f13']])\n",
    "x"
   ]
  },
  {
   "cell_type": "markdown",
   "metadata": {},
   "source": [
    "### b.\n",
    "\n",
    "**Question:** Fit polynomial regression model with degree = 1, 3, 5 and regularization value = 0, 1, 10  to a dataset. Then, validate all the models with repeated 5 fold cross-validation with 10 repeatation."
   ]
  },
  {
   "cell_type": "markdown",
   "metadata": {},
   "source": [
    "Generate three new feature matrices consisting of all polynomial combinations of the features with degree less than or equal to the 1, 3, 5:"
   ]
  },
  {
   "cell_type": "code",
   "execution_count": 45,
   "metadata": {},
   "outputs": [],
   "source": [
    "# degree = 1\n",
    "x_train21 = PolynomialFeatures(degree = 1)\n",
    "x_train21 = x_train21.fit_transform(x)\n",
    "y_train21 = np.array(train_set2.target)\n",
    "\n",
    "# degree = 3\n",
    "x_train23 = PolynomialFeatures(degree = 3)\n",
    "x_train23 = x_train23.fit_transform(x)\n",
    "y_train23 = np.array(train_set2.target)\n",
    "\n",
    "# degree = 5\n",
    "x_train25 = PolynomialFeatures(degree = 5)\n",
    "x_train25 = x_train25.fit_transform(x)\n",
    "y_train25 = np.array(train_set2.target)"
   ]
  },
  {
   "cell_type": "markdown",
   "metadata": {},
   "source": [
    "#### 1st model : degree = 1, alpha = 0\n",
    "\n",
    "Create the model : degree = 1, alpha = 0 and validate it:"
   ]
  },
  {
   "cell_type": "code",
   "execution_count": 46,
   "metadata": {},
   "outputs": [],
   "source": [
    "# degree = 1, alpha = 0\n",
    "reg1 = linear_model.Ridge(alpha = 0)\n",
    "\n",
    "# repeated 5 fold cross-validation\n",
    "mse_train1 = np.empty((10, 5))\n",
    "mse_test1 = np.empty((10, 5))\n",
    "for i in range(0, 10):\n",
    "    X = np.arange(0, len(x_train21))\n",
    "    kf = KFold(n_splits=5, shuffle = True)\n",
    "    j = 0\n",
    "    for train, test in kf.split(X):\n",
    "        reg1.fit(x_train21[train], y_train21[train])\n",
    "        mse_train1[i][j] = sklearn.metrics.mean_squared_error(reg1.predict(x_train21[train]), y_train21[train])\n",
    "        mse_test1[i][j] = sklearn.metrics.mean_squared_error(reg1.predict(x_train21[test]), y_train21[test])\n",
    "        j = j + 1\n",
    "mse_train11 = np.empty((10, 1))\n",
    "mse_test11 = np.empty((10, 1))\n",
    "for i in range(0, 10):\n",
    "    mse_test11[i] = mse_test1[i].mean()\n",
    "    mse_train11[i] = mse_train1[i].mean()\n",
    "    "
   ]
  },
  {
   "cell_type": "markdown",
   "metadata": {},
   "source": [
    "MSE of test and train:"
   ]
  },
  {
   "cell_type": "code",
   "execution_count": 47,
   "metadata": {},
   "outputs": [
    {
     "data": {
      "text/plain": [
       "23.8767376101177"
      ]
     },
     "execution_count": 47,
     "metadata": {},
     "output_type": "execute_result"
    }
   ],
   "source": [
    "mse_test11.mean()"
   ]
  },
  {
   "cell_type": "code",
   "execution_count": 48,
   "metadata": {},
   "outputs": [
    {
     "data": {
      "text/plain": [
       "21.107498192860017"
      ]
     },
     "execution_count": 48,
     "metadata": {},
     "output_type": "execute_result"
    }
   ],
   "source": [
    "mse_train11.mean()"
   ]
  },
  {
   "cell_type": "markdown",
   "metadata": {},
   "source": [
    "Plot the boxplot of every test MSE for all that computed in repeated 5 fold cross-validation:"
   ]
  },
  {
   "cell_type": "code",
   "execution_count": 49,
   "metadata": {},
   "outputs": [
    {
     "data": {
      "image/png": "[encoded data removed]",
      "text/plain": [
       "<Figure size 432x288 with 1 Axes>"
      ]
     },
     "metadata": {
      "needs_background": "light"
     },
     "output_type": "display_data"
    }
   ],
   "source": [
    "pd.DataFrame(mse_test11.reshape(-1, 1)).boxplot()\n",
    "plt.show()"
   ]
  },
  {
   "cell_type": "markdown",
   "metadata": {},
   "source": [
    "#### 2nd model :  degree = 1, alpha = 1\n",
    "\n",
    "Create the model : degree = 1, alpha = 1 and validate it:"
   ]
  },
  {
   "cell_type": "code",
   "execution_count": 50,
   "metadata": {},
   "outputs": [],
   "source": [
    "# degree = 1, alpha = 1\n",
    "reg2 = linear_model.Ridge(alpha = 1)\n",
    "\n",
    "mse_train2 = np.empty((10, 5))\n",
    "mse_test2 = np.empty((10, 5))\n",
    "for i in range(0, 10):\n",
    "    X = np.arange(0, len(x_train21))\n",
    "    kf = KFold(n_splits=5, shuffle = True)\n",
    "    j = 0\n",
    "    for train, test in kf.split(X):\n",
    "        reg2.fit(x_train21[train], y_train21[train])\n",
    "        mse_train2[i][j] = sklearn.metrics.mean_squared_error(reg2.predict(x_train21[train]), y_train21[train])\n",
    "        mse_test2[i][j] = sklearn.metrics.mean_squared_error(reg2.predict(x_train21[test]), y_train21[test])\n",
    "        j = j + 1\n",
    "mse_train22 = np.empty((10, 1))\n",
    "mse_test22 = np.empty((10, 1))\n",
    "for i in range(0, 10):\n",
    "    mse_test22[i] = mse_test2[i].mean()\n",
    "    mse_train22[i] = mse_train2[i].mean()"
   ]
  },
  {
   "cell_type": "markdown",
   "metadata": {},
   "source": [
    "MSE of test and train:"
   ]
  },
  {
   "cell_type": "code",
   "execution_count": 51,
   "metadata": {},
   "outputs": [
    {
     "data": {
      "text/plain": [
       "23.86298513818952"
      ]
     },
     "execution_count": 51,
     "metadata": {},
     "output_type": "execute_result"
    }
   ],
   "source": [
    "mse_test2.mean()"
   ]
  },
  {
   "cell_type": "code",
   "execution_count": 52,
   "metadata": {},
   "outputs": [
    {
     "data": {
      "text/plain": [
       "21.109192072059624"
      ]
     },
     "execution_count": 52,
     "metadata": {},
     "output_type": "execute_result"
    }
   ],
   "source": [
    "mse_train2.mean()"
   ]
  },
  {
   "cell_type": "markdown",
   "metadata": {},
   "source": [
    "Plot the boxplot of every test MSE for all that computed in repeated 5 fold cross-validation:"
   ]
  },
  {
   "cell_type": "code",
   "execution_count": 53,
   "metadata": {},
   "outputs": [
    {
     "data": {
      "image/png": "[encoded data removed]",
      "text/plain": [
       "<Figure size 432x288 with 1 Axes>"
      ]
     },
     "metadata": {
      "needs_background": "light"
     },
     "output_type": "display_data"
    }
   ],
   "source": [
    "pd.DataFrame(mse_test22.reshape(-1, 1)).boxplot()\n",
    "plt.show()"
   ]
  },
  {
   "cell_type": "markdown",
   "metadata": {},
   "source": [
    "#### 3rd model : degree = 1, alpha = 10\n",
    "\n",
    "Create the model : degree = 1, alpha = 10 and validate it:"
   ]
  },
  {
   "cell_type": "code",
   "execution_count": 54,
   "metadata": {},
   "outputs": [],
   "source": [
    "# degree = 1, alpha = 10\n",
    "reg3 = linear_model.Ridge(alpha = 10)\n",
    "\n",
    "mse_train3 = np.empty((10, 5))\n",
    "mse_test3 = np.empty((10, 5))\n",
    "for i in range(0, 10):\n",
    "    X = np.arange(0, len(x_train21))\n",
    "    kf = KFold(n_splits=5, shuffle = True)\n",
    "    j = 0\n",
    "    for train, test in kf.split(X):\n",
    "        reg3.fit(x_train21[train], y_train21[train])\n",
    "        mse_train3[i][j] = sklearn.metrics.mean_squared_error(reg3.predict(x_train21[train]), y_train21[train])\n",
    "        mse_test3[i][j] = sklearn.metrics.mean_squared_error(reg3.predict(x_train21[test]), y_train21[test])\n",
    "        j = j + 1\n",
    "mse_train33 = np.empty((10, 1))\n",
    "mse_test33 = np.empty((10, 1))\n",
    "for i in range(0, 10):\n",
    "    mse_test33[i] = mse_test3[i].mean()\n",
    "    mse_train33[i] = mse_train3[i].mean()"
   ]
  },
  {
   "cell_type": "markdown",
   "metadata": {},
   "source": [
    "MSE of test and train:"
   ]
  },
  {
   "cell_type": "code",
   "execution_count": 55,
   "metadata": {},
   "outputs": [
    {
     "data": {
      "text/plain": [
       "23.704166484658852"
      ]
     },
     "execution_count": 55,
     "metadata": {},
     "output_type": "execute_result"
    }
   ],
   "source": [
    "mse_test33.mean()"
   ]
  },
  {
   "cell_type": "code",
   "execution_count": 56,
   "metadata": {},
   "outputs": [
    {
     "data": {
      "text/plain": [
       "21.279023909797967"
      ]
     },
     "execution_count": 56,
     "metadata": {},
     "output_type": "execute_result"
    }
   ],
   "source": [
    "mse_train33.mean()"
   ]
  },
  {
   "cell_type": "markdown",
   "metadata": {},
   "source": [
    "Plot the boxplot of every test MSE for all that computed in repeated 5 fold cross-validation:"
   ]
  },
  {
   "cell_type": "code",
   "execution_count": 57,
   "metadata": {},
   "outputs": [
    {
     "data": {
      "image/png": "[encoded data removed]",
      "text/plain": [
       "<Figure size 432x288 with 1 Axes>"
      ]
     },
     "metadata": {
      "needs_background": "light"
     },
     "output_type": "display_data"
    }
   ],
   "source": [
    "pd.DataFrame(mse_test33.reshape(-1, 1)).boxplot()\n",
    "plt.show()"
   ]
  },
  {
   "cell_type": "markdown",
   "metadata": {},
   "source": [
    "#### 4th model : degree = 3, alpha = 0\n",
    "\n",
    "Create the model : degree = 3, alpha = 0 and validate it:"
   ]
  },
  {
   "cell_type": "code",
   "execution_count": 58,
   "metadata": {
    "collapsed": true
   },
   "outputs": [
    {
     "name": "stderr",
     "output_type": "stream",
     "text": []
    }
   ],
   "source": [
    "# degree = 3, alpha = 0\n",
    "reg4 = linear_model.Ridge(alpha = 0)\n",
    "\n",
    "mse_train4 = np.empty((10, 5))\n",
    "mse_test4 = np.empty((10, 5))\n",
    "for i in range(0, 10):\n",
    "    X = np.arange(0, len(x_train23))\n",
    "    kf = KFold(n_splits=5, shuffle = True)\n",
    "    j = 0\n",
    "    for train, test in kf.split(X):\n",
    "        reg4.fit(x_train23[train], y_train23[train])\n",
    "        mse_train4[i][j] = sklearn.metrics.mean_squared_error(reg4.predict(x_train23[train]), y_train23[train])\n",
    "        mse_test4[i][j] = sklearn.metrics.mean_squared_error(reg4.predict(x_train23[test]), y_train23[test])\n",
    "        j = j + 1\n",
    "mse_train44 = np.empty((10, 1))\n",
    "mse_test44 = np.empty((10, 1))\n",
    "for i in range(0, 10):\n",
    "    mse_test44[i] = mse_test4[i].mean()\n",
    "    mse_train44[i] = mse_train4[i].mean()"
   ]
  },
  {
   "cell_type": "markdown",
   "metadata": {},
   "source": [
    "MSE of test and train:"
   ]
  },
  {
   "cell_type": "code",
   "execution_count": 59,
   "metadata": {},
   "outputs": [
    {
     "data": {
      "text/plain": [
       "14515.102850406076"
      ]
     },
     "execution_count": 59,
     "metadata": {},
     "output_type": "execute_result"
    }
   ],
   "source": [
    "mse_test44.mean()"
   ]
  },
  {
   "cell_type": "code",
   "execution_count": 60,
   "metadata": {},
   "outputs": [
    {
     "data": {
      "text/plain": [
       "3.14460168052513e-16"
      ]
     },
     "execution_count": 60,
     "metadata": {},
     "output_type": "execute_result"
    }
   ],
   "source": [
    "mse_train44.mean()"
   ]
  },
  {
   "cell_type": "markdown",
   "metadata": {},
   "source": [
    "Plot the boxplot of every test MSE for all that computed in repeated 5 fold cross-validation:"
   ]
  },
  {
   "cell_type": "code",
   "execution_count": 61,
   "metadata": {},
   "outputs": [
    {
     "data": {
      "image/png": "[encoded data removed]",
      "text/plain": [
       "<Figure size 432x288 with 1 Axes>"
      ]
     },
     "metadata": {
      "needs_background": "light"
     },
     "output_type": "display_data"
    }
   ],
   "source": [
    "pd.DataFrame(mse_test44.reshape(-1, 1)).boxplot()\n",
    "plt.show()"
   ]
  },
  {
   "cell_type": "markdown",
   "metadata": {},
   "source": [
    "#### 5th model : degree = 3, alpha = 1\n",
    "\n",
    "Create the model : degree = 3, alpha = 1 and validate it:"
   ]
  },
  {
   "cell_type": "code",
   "execution_count": 62,
   "metadata": {},
   "outputs": [],
   "source": [
    "# degree = 3, alpha = 1\n",
    "reg5 = linear_model.Ridge(alpha = 1)\n",
    "\n",
    "mse_train5 = np.empty((10, 5))\n",
    "mse_test5 = np.empty((10, 5))\n",
    "for i in range(0, 10):\n",
    "    X = np.arange(0, len(x_train23))\n",
    "    kf = KFold(n_splits=5, shuffle = True)\n",
    "    j = 0\n",
    "    for train, test in kf.split(X):\n",
    "        reg5.fit(x_train23[train], y_train23[train])\n",
    "        mse_train5[i][j] = sklearn.metrics.mean_squared_error(reg5.predict(x_train23[train]), y_train23[train])\n",
    "        mse_test5[i][j] = sklearn.metrics.mean_squared_error(reg5.predict(x_train23[test]), y_train23[test])\n",
    "        j = j + 1\n",
    "mse_train55 = np.empty((10, 1))\n",
    "mse_test55 = np.empty((10, 1))\n",
    "for i in range(0, 10):\n",
    "    mse_test55[i] = mse_test5[i].mean()\n",
    "    mse_train55[i] = mse_train5[i].mean()"
   ]
  },
  {
   "cell_type": "markdown",
   "metadata": {},
   "source": [
    "MSE of test and train:"
   ]
  },
  {
   "cell_type": "code",
   "execution_count": 63,
   "metadata": {},
   "outputs": [
    {
     "data": {
      "text/plain": [
       "113.84756339652002"
      ]
     },
     "execution_count": 63,
     "metadata": {},
     "output_type": "execute_result"
    }
   ],
   "source": [
    "mse_test55.mean()"
   ]
  },
  {
   "cell_type": "code",
   "execution_count": 64,
   "metadata": {},
   "outputs": [
    {
     "data": {
      "text/plain": [
       "1.0586378388077968"
      ]
     },
     "execution_count": 64,
     "metadata": {},
     "output_type": "execute_result"
    }
   ],
   "source": [
    "mse_train55.mean()"
   ]
  },
  {
   "cell_type": "markdown",
   "metadata": {},
   "source": [
    "Plot the boxplot of every test MSE for all that computed in repeated 5 fold cross-validation:"
   ]
  },
  {
   "cell_type": "code",
   "execution_count": 65,
   "metadata": {},
   "outputs": [
    {
     "data": {
      "image/png": "[encoded data removed]",
      "text/plain": [
       "<Figure size 432x288 with 1 Axes>"
      ]
     },
     "metadata": {
      "needs_background": "light"
     },
     "output_type": "display_data"
    }
   ],
   "source": [
    "pd.DataFrame(mse_test55.reshape(-1, 1)).boxplot()\n",
    "plt.show()"
   ]
  },
  {
   "cell_type": "markdown",
   "metadata": {},
   "source": [
    "#### 6th model : degree = 3, alpha = 10\n",
    "\n",
    "Create the model : degree = 3, alpha = 10 and validate it:"
   ]
  },
  {
   "cell_type": "code",
   "execution_count": 66,
   "metadata": {},
   "outputs": [],
   "source": [
    "# degree = 3, alpha = 10\n",
    "reg6 = linear_model.Ridge(alpha = 10)\n",
    "\n",
    "mse_train6 = np.empty((10, 5))\n",
    "mse_test6 = np.empty((10, 5))\n",
    "for i in range(0, 10):\n",
    "    X = np.arange(0, len(x_train23))\n",
    "    kf = KFold(n_splits=5, shuffle = True)\n",
    "    j = 0\n",
    "    for train, test in kf.split(X):\n",
    "        reg6.fit(x_train23[train], y_train23[train])\n",
    "        mse_train6[i][j] = sklearn.metrics.mean_squared_error(reg6.predict(x_train23[train]), y_train23[train])\n",
    "        mse_test6[i][j] = sklearn.metrics.mean_squared_error(reg6.predict(x_train23[test]), y_train23[test])\n",
    "        j = j + 1\n",
    "mse_train66 = np.empty((10, 1))\n",
    "mse_test66 = np.empty((10, 1))\n",
    "for i in range(0, 10):\n",
    "    mse_test66[i] = mse_test6[i].mean()\n",
    "    mse_train66[i] = mse_train6[i].mean()"
   ]
  },
  {
   "cell_type": "markdown",
   "metadata": {},
   "source": [
    "MSE of test and train:"
   ]
  },
  {
   "cell_type": "code",
   "execution_count": 67,
   "metadata": {},
   "outputs": [
    {
     "data": {
      "text/plain": [
       "32.398616693414674"
      ]
     },
     "execution_count": 67,
     "metadata": {},
     "output_type": "execute_result"
    }
   ],
   "source": [
    "mse_test66.mean()"
   ]
  },
  {
   "cell_type": "code",
   "execution_count": 68,
   "metadata": {},
   "outputs": [
    {
     "data": {
      "text/plain": [
       "2.5336624392820357"
      ]
     },
     "execution_count": 68,
     "metadata": {},
     "output_type": "execute_result"
    }
   ],
   "source": [
    "mse_train66.mean()"
   ]
  },
  {
   "cell_type": "markdown",
   "metadata": {},
   "source": [
    "Plot the boxplot of every test MSE for all that computed in repeated 5 fold cross-validation:"
   ]
  },
  {
   "cell_type": "code",
   "execution_count": 69,
   "metadata": {},
   "outputs": [
    {
     "data": {
      "image/png": "[encoded data removed]",
      "text/plain": [
       "<Figure size 432x288 with 1 Axes>"
      ]
     },
     "metadata": {
      "needs_background": "light"
     },
     "output_type": "display_data"
    }
   ],
   "source": [
    "pd.DataFrame(mse_test66.reshape(-1, 1)).boxplot()\n",
    "plt.show()"
   ]
  },
  {
   "cell_type": "markdown",
   "metadata": {},
   "source": [
    "#### 7th model : degree = 5, alpha = 0\n",
    "\n",
    "Create the model : degree = 5, alpha = 0 and validate it:"
   ]
  },
  {
   "cell_type": "code",
   "execution_count": 70,
   "metadata": {},
   "outputs": [
    {
     "name": "stderr",
     "output_type": "stream",
     "text": []
    }
   ],
   "source": [
    "# degree = 5, alpha = 0\n",
    "reg7 = linear_model.Ridge(alpha = 0)\n",
    "\n",
    "mse_train7 = np.empty((10, 5))\n",
    "mse_test7 = np.empty((10, 5))\n",
    "for i in range(0, 10):\n",
    "    X = np.arange(0, len(x_train25))\n",
    "    kf = KFold(n_splits=5, shuffle = True)\n",
    "    j = 0\n",
    "    for train, test in kf.split(X):\n",
    "        reg7.fit(x_train25[train], y_train25[train])\n",
    "        mse_train7[i][j] = sklearn.metrics.mean_squared_error(reg7.predict(x_train25[train]), y_train25[train])\n",
    "        mse_test7[i][j] = sklearn.metrics.mean_squared_error(reg7.predict(x_train25[test]), y_train25[test])\n",
    "        j = j + 1\n",
    "mse_train77 = np.empty((10, 1))\n",
    "mse_test77 = np.empty((10, 1))\n",
    "for i in range(0, 10):\n",
    "    mse_test77[i] = mse_test7[i].mean()\n",
    "    mse_train77[i] = mse_train7[i].mean()"
   ]
  },
  {
   "cell_type": "markdown",
   "metadata": {},
   "source": [
    "MSE of test and train:"
   ]
  },
  {
   "cell_type": "code",
   "execution_count": 71,
   "metadata": {},
   "outputs": [
    {
     "data": {
      "text/plain": [
       "69242.48685597048"
      ]
     },
     "execution_count": 71,
     "metadata": {},
     "output_type": "execute_result"
    }
   ],
   "source": [
    "mse_test77.mean()"
   ]
  },
  {
   "cell_type": "code",
   "execution_count": 72,
   "metadata": {},
   "outputs": [
    {
     "data": {
      "text/plain": [
       "5.293674722067054e-15"
      ]
     },
     "execution_count": 72,
     "metadata": {},
     "output_type": "execute_result"
    }
   ],
   "source": [
    "mse_train77.mean()"
   ]
  },
  {
   "cell_type": "markdown",
   "metadata": {},
   "source": [
    "Plot the boxplot of every test MSE for all that computed in repeated 5 fold cross-validation:"
   ]
  },
  {
   "cell_type": "code",
   "execution_count": 73,
   "metadata": {},
   "outputs": [
    {
     "data": {
      "image/png": "[encoded data removed]",
      "text/plain": [
       "<Figure size 432x288 with 1 Axes>"
      ]
     },
     "metadata": {
      "needs_background": "light"
     },
     "output_type": "display_data"
    }
   ],
   "source": [
    "pd.DataFrame(mse_test77.reshape(-1, 1)).boxplot()\n",
    "plt.show()"
   ]
  },
  {
   "cell_type": "markdown",
   "metadata": {},
   "source": [
    "#### 8th model : degree = 5, alpha = 1\n",
    "\n",
    "Create the model : degree = 5, alpha = 1 and validate it:"
   ]
  },
  {
   "cell_type": "code",
   "execution_count": 74,
   "metadata": {},
   "outputs": [],
   "source": [
    "# degree = 5, alpha = 1\n",
    "reg8 = linear_model.Ridge(alpha = 1)\n",
    "\n",
    "mse_train8 = np.empty((10, 5))\n",
    "mse_test8 = np.empty((10, 5))\n",
    "for i in range(0, 10):\n",
    "    X = np.arange(0, len(x_train25))\n",
    "    kf = KFold(n_splits=5, shuffle = True)\n",
    "    j = 0\n",
    "    for train, test in kf.split(X):\n",
    "        reg8.fit(x_train25[train], y_train25[train])\n",
    "        mse_train8[i][j] = sklearn.metrics.mean_squared_error(reg7.predict(x_train25[train]), y_train25[train])\n",
    "        mse_test8[i][j] = sklearn.metrics.mean_squared_error(reg7.predict(x_train25[test]), y_train25[test])\n",
    "        j = j + 1\n",
    "mse_train88 = np.empty((10, 1))\n",
    "mse_test88 = np.empty((10, 1))\n",
    "for i in range(0, 10):\n",
    "    mse_test88[i] = mse_test8[i].mean()\n",
    "    mse_train88[i] = mse_train8[i].mean()"
   ]
  },
  {
   "cell_type": "markdown",
   "metadata": {},
   "source": [
    "MSE of test and train:"
   ]
  },
  {
   "cell_type": "code",
   "execution_count": 75,
   "metadata": {},
   "outputs": [
    {
     "data": {
      "text/plain": [
       "16.58646021363406"
      ]
     },
     "execution_count": 75,
     "metadata": {},
     "output_type": "execute_result"
    }
   ],
   "source": [
    "mse_test88.mean()"
   ]
  },
  {
   "cell_type": "code",
   "execution_count": 76,
   "metadata": {},
   "outputs": [
    {
     "data": {
      "text/plain": [
       "16.5910573573642"
      ]
     },
     "execution_count": 76,
     "metadata": {},
     "output_type": "execute_result"
    }
   ],
   "source": [
    "mse_train88.mean()"
   ]
  },
  {
   "cell_type": "markdown",
   "metadata": {},
   "source": [
    "Plot the boxplot of every test MSE for all that computed in repeated 5 fold cross-validation:"
   ]
  },
  {
   "cell_type": "code",
   "execution_count": 77,
   "metadata": {},
   "outputs": [
    {
     "data": {
      "image/png": "[encoded data removed]",
      "text/plain": [
       "<Figure size 432x288 with 1 Axes>"
      ]
     },
     "metadata": {
      "needs_background": "light"
     },
     "output_type": "display_data"
    }
   ],
   "source": [
    "pd.DataFrame(mse_test88.reshape(-1, 1)).boxplot()\n",
    "plt.show()"
   ]
  },
  {
   "cell_type": "markdown",
   "metadata": {},
   "source": [
    "#### 9th model : degree = 5, alpha = 10\n",
    "\n",
    "Create the model : degree = 51, alpha = 10 and validate it:"
   ]
  },
  {
   "cell_type": "code",
   "execution_count": 78,
   "metadata": {},
   "outputs": [],
   "source": [
    "# degree = 5, alpha = 10\n",
    "reg9 = linear_model.Ridge(alpha = 10)\n",
    "\n",
    "mse_train9 = np.empty((10, 5))\n",
    "mse_test9 = np.empty((10, 5))\n",
    "for i in range(0, 10):\n",
    "    X = np.arange(0, len(x_train25))\n",
    "    kf = KFold(n_splits=5, shuffle = True)\n",
    "    j = 0\n",
    "    for train, test in kf.split(X):\n",
    "        reg9.fit(x_train25[train], y_train25[train])\n",
    "        mse_train9[i][j] = sklearn.metrics.mean_squared_error(reg9.predict(x_train25[train]), y_train25[train])\n",
    "        mse_test9[i][j] = sklearn.metrics.mean_squared_error(reg9.predict(x_train25[test]), y_train25[test])\n",
    "        j = j + 1\n",
    "mse_train99 = np.empty((10, 1))\n",
    "mse_test99 = np.empty((10, 1))\n",
    "for i in range(0, 10):\n",
    "    mse_test99[i] = mse_test9[i].mean()\n",
    "    mse_train99[i] = mse_train9[i].mean()"
   ]
  },
  {
   "cell_type": "markdown",
   "metadata": {},
   "source": [
    "MSE of test and train:"
   ]
  },
  {
   "cell_type": "code",
   "execution_count": 79,
   "metadata": {},
   "outputs": [
    {
     "data": {
      "text/plain": [
       "3524.101680510293"
      ]
     },
     "execution_count": 79,
     "metadata": {},
     "output_type": "execute_result"
    }
   ],
   "source": [
    "mse_test99.mean()"
   ]
  },
  {
   "cell_type": "code",
   "execution_count": 80,
   "metadata": {},
   "outputs": [
    {
     "data": {
      "text/plain": [
       "0.35503878179481096"
      ]
     },
     "execution_count": 80,
     "metadata": {},
     "output_type": "execute_result"
    }
   ],
   "source": [
    "mse_train99.mean()"
   ]
  },
  {
   "cell_type": "markdown",
   "metadata": {},
   "source": [
    "Plot the boxplot of every test MSE for all that computed in repeated 5 fold cross-validation:"
   ]
  },
  {
   "cell_type": "code",
   "execution_count": 81,
   "metadata": {},
   "outputs": [
    {
     "data": {
      "image/png": "[encoded data removed]",
      "text/plain": [
       "<Figure size 432x288 with 1 Axes>"
      ]
     },
     "metadata": {
      "needs_background": "light"
     },
     "output_type": "display_data"
    }
   ],
   "source": [
    "pd.DataFrame(mse_test99.reshape(-1, 1)).boxplot()\n",
    "plt.show()"
   ]
  },
  {
   "cell_type": "markdown",
   "metadata": {},
   "source": [
    "## c.\n",
    "\n",
    "**Question:** Find the best regularization value for the polynomial regression model with degree = 1, 3, 5."
   ]
  },
  {
   "cell_type": "markdown",
   "metadata": {},
   "source": [
    "Create the model with degree = 1 and compute the MSE for each value of regularization:"
   ]
  },
  {
   "cell_type": "code",
   "execution_count": 82,
   "metadata": {},
   "outputs": [],
   "source": [
    "# degree = 1\n",
    "\n",
    "mse_train41 = np.empty((10, 5))\n",
    "mse_test41 = np.empty((10, 5))\n",
    "for i in range(0, 10):\n",
    "    reg41 = linear_model.Ridge(alpha = i)\n",
    "    X = np.arange(0, len(x_train21))\n",
    "    kf = KFold(n_splits=5, shuffle = True)\n",
    "    j = 0\n",
    "    for train, test in kf.split(X):\n",
    "        reg41.fit(x_train21[train], y_train21[train])\n",
    "        mse_train41[i][j] = sklearn.metrics.mean_squared_error(reg41.predict(x_train21[train]), y_train21[train])\n",
    "        mse_test41[i][j] = sklearn.metrics.mean_squared_error(reg41.predict(x_train21[test]), y_train21[test])\n",
    "        j = j + 1\n",
    "mse_train411 = np.empty(10)\n",
    "mse_test411 = np.empty(10)\n",
    "for i in range(0, 10):\n",
    "    mse_test411[i] = mse_test41[i].mean()\n",
    "    mse_train411[i] = mse_train41[i].mean()"
   ]
  },
  {
   "cell_type": "markdown",
   "metadata": {},
   "source": [
    "Plot the MSE values which are computed above:"
   ]
  },
  {
   "cell_type": "code",
   "execution_count": 83,
   "metadata": {},
   "outputs": [
    {
     "data": {
      "image/png": "[encoded data removed]",
      "text/plain": [
       "<Figure size 432x288 with 1 Axes>"
      ]
     },
     "metadata": {
      "needs_background": "light"
     },
     "output_type": "display_data"
    }
   ],
   "source": [
    "plt.scatter(range(0, 10), mse_test411)\n",
    "plt.plot(range(0, 10), mse_test411)\n",
    "plt.xlabel('Regulaization Coeffitient')\n",
    "plt.ylabel('Cross Validation Score')\n",
    "plt.title('Degree = 1')\n",
    "plt.show()"
   ]
  },
  {
   "cell_type": "markdown",
   "metadata": {},
   "source": [
    "Create the model with degree = 3 and compute the MSE for each value of regularization:"
   ]
  },
  {
   "cell_type": "code",
   "execution_count": 84,
   "metadata": {},
   "outputs": [
    {
     "name": "stderr",
     "output_type": "stream",
     "text": []
    }
   ],
   "source": [
    "# degree = 3\n",
    "mse_train43 = np.empty((10, 5))\n",
    "mse_test43 = np.empty((10, 5))\n",
    "for i in range(0, 10):\n",
    "    reg43 = linear_model.Ridge(alpha = i)\n",
    "    X = np.arange(0, len(x_train23))\n",
    "    kf = KFold(n_splits=5, shuffle = True)\n",
    "    j = 0\n",
    "    for train, test in kf.split(X):\n",
    "        reg43.fit(x_train23[train], y_train23[train])\n",
    "        mse_train43[i][j] = sklearn.metrics.mean_squared_error(reg43.predict(x_train23[train]), y_train23[train])\n",
    "        mse_test43[i][j] = sklearn.metrics.mean_squared_error(reg43.predict(x_train23[test]), y_train23[test])\n",
    "        j = j + 1\n",
    "mse_train433 = np.empty(10)\n",
    "mse_test433 = np.empty(10)\n",
    "for i in range(0, 10):\n",
    "    mse_test433[i] = mse_test43[i].mean()\n",
    "    mse_train433[i] = mse_train43[i].mean()"
   ]
  },
  {
   "cell_type": "markdown",
   "metadata": {},
   "source": [
    "Plot the MSE values which are computed above:"
   ]
  },
  {
   "cell_type": "code",
   "execution_count": 85,
   "metadata": {},
   "outputs": [
    {
     "data": {
      "image/png": "[encoded data removed]",
      "text/plain": [
       "<Figure size 432x288 with 1 Axes>"
      ]
     },
     "metadata": {
      "needs_background": "light"
     },
     "output_type": "display_data"
    }
   ],
   "source": [
    "plt.scatter(range(0, 10), mse_test433)\n",
    "plt.plot(range(0, 10), mse_test433)\n",
    "plt.xlabel('Regulaization Coeffitient')\n",
    "plt.ylabel('Cross Validation Score')\n",
    "plt.title('Degree = 3')\n",
    "plt.show()"
   ]
  },
  {
   "cell_type": "markdown",
   "metadata": {},
   "source": [
    "Create the model with degree = 5 and compute the MSE for each value of regularization:"
   ]
  },
  {
   "cell_type": "code",
   "execution_count": 86,
   "metadata": {},
   "outputs": [
    {
     "name": "stderr",
     "output_type": "stream",
     "text": []
    }
   ],
   "source": [
    "# degree = 5\n",
    "mse_train45 = np.empty((10, 5))\n",
    "mse_test45 = np.empty((10, 5))\n",
    "for i in range(0, 10):\n",
    "    reg45 = linear_model.Ridge(alpha = i)\n",
    "    X = np.arange(0, len(x_train25))\n",
    "    kf = KFold(n_splits=5, shuffle = True)\n",
    "    j = 0\n",
    "    for train, test in kf.split(X):\n",
    "        reg45.fit(x_train25[train], y_train25[train])\n",
    "        mse_train45[i][j] = sklearn.metrics.mean_squared_error(reg45.predict(x_train25[train]), y_train25[train])\n",
    "        mse_test45[i][j] = sklearn.metrics.mean_squared_error(reg45.predict(x_train25[test]), y_train25[test])\n",
    "        j = j + 1\n",
    "mse_train455 = np.empty(10)\n",
    "mse_test455 = np.empty(10)\n",
    "for i in range(0, 10):\n",
    "    mse_test455[i] = mse_test45[i].mean()\n",
    "    mse_train455[i] = mse_train45[i].mean()"
   ]
  },
  {
   "cell_type": "markdown",
   "metadata": {},
   "source": [
    "Plot the MSE values which are computed above:"
   ]
  },
  {
   "cell_type": "code",
   "execution_count": 87,
   "metadata": {
    "scrolled": true
   },
   "outputs": [
    {
     "data": {
      "image/png": "[encoded data removed]",
      "text/plain": [
       "<Figure size 432x288 with 1 Axes>"
      ]
     },
     "metadata": {
      "needs_background": "light"
     },
     "output_type": "display_data"
    }
   ],
   "source": [
    "plt.scatter(range(0, 10), mse_test455)\n",
    "plt.plot(range(0, 10), mse_test455)\n",
    "plt.xlabel('Regulaization Coeffitient')\n",
    "plt.ylabel('Cross Validation Score')\n",
    "plt.title('Degree = 5')\n",
    "plt.show()"
   ]
  },
  {
   "cell_type": "markdown",
   "metadata": {},
   "source": [
    "### d.\n",
    "\n",
    "**Question:** Predict the target value of test set according to the best model that determined in the c. "
   ]
  },
  {
   "cell_type": "code",
   "execution_count": 90,
   "metadata": {},
   "outputs": [
    {
     "data": {
      "text/plain": [
       "array([20.96314045, 25.07552013, 33.82197878, 13.32769173, 16.64043445,\n",
       "        0.08708669, 24.25432056, 41.48027058, 35.41251738, 35.00806038,\n",
       "       23.90171653, 22.2090245 , 23.25517045, 30.13142418, 29.35769764,\n",
       "        4.09691165,  9.28116035, 21.73355307, 32.73451959, 18.14805997,\n",
       "       22.33176232, 20.41564682, 26.67191733, 16.87770686, 33.80898337,\n",
       "       20.32971841, 15.51616382, 33.39281671, 18.33980809, 36.5667186 ,\n",
       "       24.46885311, 26.50684697, 19.54035129, 28.70538517, 27.08772482,\n",
       "       22.62189207, 19.27045219, 16.81109597, 19.72692106, 22.65400389,\n",
       "       29.6078048 , 20.04206704, -2.07895546, 20.47905806, 33.67991068,\n",
       "       20.4636916 , 19.31772308, 18.27029878, 18.9765702 , 12.96671937,\n",
       "       17.63392134, 22.07417963, 21.30561094, 33.95229334, 30.72086539,\n",
       "       27.47693514, 18.47336575, 13.63849147, 21.47970415, 21.77022164,\n",
       "       18.90706823, 21.13571209,  7.95901623, 24.24350217, 35.34626916,\n",
       "       28.62185904, 30.6048503 , 34.36212786, 40.52873189, 12.6500403 ,\n",
       "       28.06419014, 17.42322954, 40.39984106, 24.73753613, 15.02290047,\n",
       "       14.4849983 , 28.22384781, 15.87234986, 20.55148311, 15.27038205,\n",
       "       13.64553035, 30.11217938, 19.17654129, 23.79543112, 14.78544427,\n",
       "       18.16314192, 29.23973366, 16.04550051,  9.90947024, 24.87697173,\n",
       "       24.61889446, 20.96511918, 20.46429446, 25.39254823, 11.36272128,\n",
       "       17.0906929 , 16.46311634, 19.58032365, 25.14399969, 30.09561411])"
      ]
     },
     "execution_count": 90,
     "metadata": {},
     "output_type": "execute_result"
    }
   ],
   "source": [
    "xx = scale(test_set2[['f1', 'f2', 'f3', 'f4', 'f5', 'f6', 'f7', 'f8', 'f9', 'f10', 'f11', 'f12', 'f13']])\n",
    "x_test21 = PolynomialFeatures(degree = 1)\n",
    "x_test21 = x_test21.fit_transform(xx)\n",
    "\n",
    "REG_Final = linear_model.Ridge(alpha = 1)\n",
    "REG_Final.fit(x_train21, y_train21)\n",
    "\n",
    "y_test2 = REG_Final.predict(x_test21)\n",
    "y_test2"
   ]
  }
 ],
 "metadata": {
  "kernelspec": {
   "display_name": "Python 3",
   "language": "python",
   "name": "python3"
  },
  "language_info": {
   "codemirror_mode": {
    "name": "ipython",
    "version": 3
   },
   "file_extension": ".py",
   "mimetype": "text/x-python",
   "name": "python",
   "nbconvert_exporter": "python",
   "pygments_lexer": "ipython3",
   "version": "3.7.6"
  },
  "widgets": {
   "application/vnd.jupyter.widget-state+json": {
    "state": {},
    "version_major": 2,
    "version_minor": 0
   }
  }
 },
 "nbformat": 4,
 "nbformat_minor": 4
}
